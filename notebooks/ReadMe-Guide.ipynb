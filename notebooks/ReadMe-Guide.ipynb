{
 "cells": [
  {
   "cell_type": "markdown",
   "source": [
    "# Liakopoulos Alexandros\r\n",
    "### MODULE CODE: AIDL_02\r\n",
    "### MODULE TITLE: Neural Networks and Deep Learning\r\n",
    "### ASSIGNMENT / PROJECT TITLE: Bird Classification\r\n",
    "\r\n",
    "***"
   ],
   "metadata": {}
  },
  {
   "cell_type": "markdown",
   "source": [
    "## install the required packages\r\n",
    "1. provides audio and music analysis on Python\r\n",
    "```!pip install librosa boto3```\r\n",
    "2. Wavio \r\n",
    "```!pip install wavio```\r\n",
    "3. Tensorflow \r\n",
    "```!pip install tensorflow```\r\n",
    "4. Kapre implements time-frequency conversions, normalisation, and data augmentation as Keras layers \r\n",
    "```!pip install kapre```\r\n",
    "5. Sound File\r\n",
    "```!pip install soundfile```\r\n",
    "6. Torch Audio\r\n",
    "```!pip install torchaudio```"
   ],
   "metadata": {}
  },
  {
   "cell_type": "markdown",
   "source": [
    "## Data set : \r\n",
    "[Bird song data set](https://www.kaggle.com/vinayshanbhag/bird-song-data-set?select=bird_songs_metadata.csv)\r\n",
    "> https://www.kaggle.com/vinayshanbhag/bird-song-data-set?select=bird_songs_metadata.csv\r\n"
   ],
   "metadata": {}
  },
  {
   "cell_type": "markdown",
   "source": [
    "## References\r\n",
    "1. [Machine Learning Mastery](https://machinelearningmastery.com/)\r\n",
    "2. [Kapre library](https://github.com/keunwoochoi/kapre) and [Kapre paper](chrome-extension://oemmndcbldboiebfnladdacbdfmadadm/https://arxiv.org/pdf/1706.05781.pdf)\r\n",
    "3. [Keras](https://keras.io/about/)\r\n",
    "4. [Sound File](https://pysoundfile.readthedocs.io/en/latest/)\r\n",
    "5. [Scikit](https://scikit-learn.org/stable/modules/classes.html#module-sklearn.model_selection)\r\n",
    "6. [Torch Audio](https://pytorch.org/tutorials/beginner/audio_preprocessing_tutorial.html)\r\n",
    "7. [Audio Classification on YouTube](https://www.youtube.com/watch?v=RMfeYitdO-c&t=2s)\r\n",
    "8. [Wandb Report](https://wandb.ai/skycladai/bird-classification/reports/Bird-Classification-Report--VmlldzoxMDE0OTQ2)"
   ],
   "metadata": {}
  },
  {
   "cell_type": "markdown",
   "source": [
    "## Get Started\r\n",
    "1. Open data_preperation.py and uncomment the \"test_threshold\" function call on the line 169 and run on the terminal the following command: \r\n",
    "```python data_preperation.py ```\r\n",
    "2. On the same file comment out the \"test_threshold\" function call on the line 169 and uncomment the \"split_wavs\" and run on the terminal the following command:\r\n",
    "```python data_preperation.py ```\r\n",
    "3. After it finish preparing the data, start the training with this command : \r\n",
    "```python train.py ```\r\n",
    "4. After it finish training the model, start the prediction with this command : \r\n",
    "```python predict.py ```\r\n",
    "5. After it finish the prediction, you can run any file on the notebooks folder in order to see the plotting"
   ],
   "metadata": {}
  },
  {
   "cell_type": "markdown",
   "source": [],
   "metadata": {}
  }
 ],
 "metadata": {
  "kernelspec": {
   "name": "python3",
   "display_name": "Python 3.8.5 64-bit ('base': conda)"
  },
  "language_info": {
   "codemirror_mode": {
    "name": "ipython",
    "version": 3
   },
   "file_extension": ".py",
   "mimetype": "text/x-python",
   "name": "python",
   "nbconvert_exporter": "python",
   "pygments_lexer": "ipython3",
   "version": "3.8.5"
  },
  "interpreter": {
   "hash": "b3ba2566441a7c06988d0923437866b63cedc61552a5af99d1f4fb67d367b25f"
  }
 },
 "nbformat": 4,
 "nbformat_minor": 2
}